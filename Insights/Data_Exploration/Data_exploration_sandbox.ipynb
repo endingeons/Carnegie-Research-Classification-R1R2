{
 "cells": [
  {
   "cell_type": "code",
   "execution_count": 2,
   "id": "c5268b9a",
   "metadata": {},
   "outputs": [],
   "source": [
    "import pandas as pd\n",
    "\n",
    "# All CSV paths\n",
    "all_r1_path = '../../Prepared_Data/cc_download_R1.csv'\n",
    "all_r2_path = '../../Prepared_Data/cc_download_R2.csv'\n",
    "ccihe_path = '../../Prepared_Data/CCIHE2021-PublicData.csv'\n",
    "rankings_path = '../../Prepared_Data/rankings.csv'\n",
    "\n",
    "# Read all the files into pandas dataframes\n",
    "r1_df = pd.read_csv(all_r1_path)\n",
    "r2_df = pd.read_csv(all_r2_path)\n",
    "ccihe_df = pd.read_csv(ccihe_path)\n",
    "rankings_df = pd.read_csv(rankings_path)"
   ]
  },
  {
   "cell_type": "code",
   "execution_count": 5,
   "id": "35a0e080",
   "metadata": {},
   "outputs": [
    {
     "name": "stdout",
     "output_type": "stream",
     "text": [
      "unitid\n",
      "name\n",
      "city\n",
      "state\n",
      "level\n",
      "control\n",
      "Undergraduate Program\n",
      "Graduate Program\n",
      "Enrollment Profile\n",
      "Undergraduate Profile\n",
      "Size & Setting\n",
      "Basic\n",
      "Community Engagement\n",
      "146 results for  Basic = 'Doctoral Universities: Very High Research Activity'\n",
      "unitid\n",
      "name\n",
      "city\n",
      "state\n",
      "level\n",
      "control\n",
      "Undergraduate Program\n",
      "Graduate Program\n",
      "Enrollment Profile\n",
      "Undergraduate Profile\n",
      "Size & Setting\n",
      "Basic\n",
      "Community Engagement\n",
      "133 results for  Basic = 'Doctoral Universities: High Research Activity'\n",
      "unitid\n",
      "name\n",
      "city\n",
      "stabbr\n",
      "basic2000\n",
      "basic2005\n",
      "basic2010\n",
      "basic2015\n",
      "basic2018\n",
      "basic2021\n",
      "ipug2021\n",
      "ipgrad2021\n",
      "ugprofile2021\n",
      "enrprofile2021\n",
      "sizeset2021\n",
      "cce2020\n",
      "obereg\n",
      "sector\n",
      "iclevel\n",
      "control\n",
      "pset4flg\n",
      "locale\n",
      "landgrnt\n",
      "medical\n",
      "hbcu\n",
      "tribal\n",
      "hsi\n",
      "msi\n",
      "womens\n",
      "coplac\n",
      "cusu\n",
      "cumu\n",
      "assocdeg\n",
      "baccdeg\n",
      "mastdeg\n",
      "docrsdeg\n",
      "docppdeg\n",
      "docothdeg\n",
      "totdeg\n",
      "serd\n",
      "nonserd\n",
      "pdnfrstaff\n",
      "facnum\n",
      "socsc_rsd\n",
      "hum_rsd\n",
      "stem_rsd\n",
      "oth_rsd\n",
      "drsas\n",
      "drsprof\n",
      "ogrdas\n",
      "ogrdprof\n",
      "asbadeg\n",
      "profbadeg\n",
      "asc2crtc\n",
      "asc2trns\n",
      "fallenr19\n",
      "anenr1920\n",
      "fallenr20\n",
      "fallfte20\n",
      "ugtenr20\n",
      "grtenr20\n",
      "ugdsft20\n",
      "ugdspt20\n",
      "ugndft20\n",
      "ugndpt20\n",
      "grft20\n",
      "grpt20\n",
      "ugn1sttmft20\n",
      "ugn1sttmpt20\n",
      "ugntrft20\n",
      "ugntrpt20\n",
      "stdmixratio\n",
      "progmixratio\n",
      "numcip2\n",
      "lrgstcip2_1\n",
      "lrgstcip2_2\n",
      "lrgstcip2_degs\n",
      "pctlrgst\n",
      "ugcip4pr\n",
      "grcip4pr\n",
      "coexpr\n",
      "pctcoex\n",
      "docresflag\n",
      "maxgpeduc\n",
      "maxgpbus\n",
      "maxgpoth\n",
      "ngcip2pxdr\n",
      "ngcip2dr\n",
      "rooms\n",
      "nsat\n",
      "nact\n",
      "satv25\n",
      "satm25\n",
      "satcmb25\n",
      "actcmp25\n",
      "satacteq25\n",
      "actfinal\n",
      "appsf20\n",
      "admitsf20\n",
      "pctadmitf20\n",
      "selindex\n",
      "Institution\n",
      "Rank_earned_doct\n",
      "Percentile_earned_doct\n",
      "Rank_full_time_grad\n",
      "Percentile_full_time_grad\n",
      "Rank_tot_rd\n",
      "Percentile_tot_rd\n",
      "Rank_research_space\n",
      "Percentile_research_space\n"
     ]
    }
   ],
   "source": [
    "for df in [r1_df, r2_df, ccihe_df, rankings_df]:\n",
    "    for key in df.keys():\n",
    "        print(key)"
   ]
  },
  {
   "cell_type": "code",
   "execution_count": 14,
   "id": "da6875ce",
   "metadata": {},
   "outputs": [],
   "source": [
    "r1_r2_df = pd.concat([r1_df, r2_df], axis=0, keys=['R1', 'R2']).reset_index(level=[0]).rename(columns={'level_0': 'research_level'})"
   ]
  },
  {
   "cell_type": "code",
   "execution_count": 16,
   "id": "3f52511b",
   "metadata": {},
   "outputs": [
    {
     "data": {
      "text/plain": [
       "0      Arizona State University Campus Immersion\n",
       "1                              Auburn University\n",
       "2                              Baylor University\n",
       "3                          Binghamton University\n",
       "4                                 Boston College\n",
       "                         ...                    \n",
       "128                  Western Michigan University\n",
       "129                     Wichita State University\n",
       "130                               William & Mary\n",
       "131              Worcester Polytechnic Institute\n",
       "132          Wright State University-Main Campus\n",
       "Name: name, Length: 279, dtype: object"
      ]
     },
     "execution_count": 16,
     "metadata": {},
     "output_type": "execute_result"
    }
   ],
   "source": [
    "r1_r2_df.name"
   ]
  },
  {
   "cell_type": "code",
   "execution_count": 19,
   "id": "e5fe84ac",
   "metadata": {},
   "outputs": [
    {
     "data": {
      "text/plain": [
       "0                                           A.T. Still U.\n",
       "1                                    Abilene Christian U.\n",
       "2                                              Adelphi U.\n",
       "3                                          Agnes Scott C.\n",
       "4                       Air Force Institute of Technology\n",
       "                              ...                        \n",
       "1098    The population of reporting institutions and l...\n",
       "1099            For more information see Technical notes.\n",
       "1100    Tied institutions are ranked alike and listed ...\n",
       "1101    Unallocated in an institution name indicates f...\n",
       "1102                                         institution.\n",
       "Name: Institution, Length: 1103, dtype: object"
      ]
     },
     "execution_count": 19,
     "metadata": {},
     "output_type": "execute_result"
    }
   ],
   "source": [
    "rankings_df.Institution"
   ]
  },
  {
   "cell_type": "code",
   "execution_count": 20,
   "id": "e1b97f80",
   "metadata": {},
   "outputs": [
    {
     "data": {
      "text/html": [
       "<div>\n",
       "<style scoped>\n",
       "    .dataframe tbody tr th:only-of-type {\n",
       "        vertical-align: middle;\n",
       "    }\n",
       "\n",
       "    .dataframe tbody tr th {\n",
       "        vertical-align: top;\n",
       "    }\n",
       "\n",
       "    .dataframe thead th {\n",
       "        text-align: right;\n",
       "    }\n",
       "</style>\n",
       "<table border=\"1\" class=\"dataframe\">\n",
       "  <thead>\n",
       "    <tr style=\"text-align: right;\">\n",
       "      <th></th>\n",
       "      <th>Institution</th>\n",
       "      <th>Rank_earned_doct</th>\n",
       "      <th>Percentile_earned_doct</th>\n",
       "      <th>Rank_full_time_grad</th>\n",
       "      <th>Percentile_full_time_grad</th>\n",
       "      <th>Rank_tot_rd</th>\n",
       "      <th>Percentile_tot_rd</th>\n",
       "      <th>Rank_research_space</th>\n",
       "      <th>Percentile_research_space</th>\n",
       "    </tr>\n",
       "  </thead>\n",
       "  <tbody>\n",
       "    <tr>\n",
       "      <th>0</th>\n",
       "      <td>A.T. Still U.</td>\n",
       "      <td>0.0</td>\n",
       "      <td>0.0</td>\n",
       "      <td>305.0</td>\n",
       "      <td>44.6</td>\n",
       "      <td>779.0</td>\n",
       "      <td>85.8</td>\n",
       "      <td>0.0</td>\n",
       "      <td>0.0</td>\n",
       "    </tr>\n",
       "    <tr>\n",
       "      <th>1</th>\n",
       "      <td>Abilene Christian U.</td>\n",
       "      <td>0.0</td>\n",
       "      <td>0.0</td>\n",
       "      <td>396.0</td>\n",
       "      <td>57.7</td>\n",
       "      <td>425.0</td>\n",
       "      <td>47.2</td>\n",
       "      <td>545.0</td>\n",
       "      <td>93.5</td>\n",
       "    </tr>\n",
       "    <tr>\n",
       "      <th>2</th>\n",
       "      <td>Adelphi U.</td>\n",
       "      <td>279.0</td>\n",
       "      <td>62.6</td>\n",
       "      <td>255.0</td>\n",
       "      <td>37.4</td>\n",
       "      <td>531.0</td>\n",
       "      <td>58.8</td>\n",
       "      <td>0.0</td>\n",
       "      <td>0.0</td>\n",
       "    </tr>\n",
       "    <tr>\n",
       "      <th>3</th>\n",
       "      <td>Agnes Scott C.</td>\n",
       "      <td>0.0</td>\n",
       "      <td>0.0</td>\n",
       "      <td>0.0</td>\n",
       "      <td>0.0</td>\n",
       "      <td>823.0</td>\n",
       "      <td>90.6</td>\n",
       "      <td>0.0</td>\n",
       "      <td>0.0</td>\n",
       "    </tr>\n",
       "    <tr>\n",
       "      <th>4</th>\n",
       "      <td>Air Force Institute of Technology</td>\n",
       "      <td>262.0</td>\n",
       "      <td>58.8</td>\n",
       "      <td>218.0</td>\n",
       "      <td>32.1</td>\n",
       "      <td>214.0</td>\n",
       "      <td>24.2</td>\n",
       "      <td>0.0</td>\n",
       "      <td>0.0</td>\n",
       "    </tr>\n",
       "    <tr>\n",
       "      <th>...</th>\n",
       "      <td>...</td>\n",
       "      <td>...</td>\n",
       "      <td>...</td>\n",
       "      <td>...</td>\n",
       "      <td>...</td>\n",
       "      <td>...</td>\n",
       "      <td>...</td>\n",
       "      <td>...</td>\n",
       "      <td>...</td>\n",
       "    </tr>\n",
       "    <tr>\n",
       "      <th>1098</th>\n",
       "      <td>The population of reporting institutions and l...</td>\n",
       "      <td>NaN</td>\n",
       "      <td>NaN</td>\n",
       "      <td>NaN</td>\n",
       "      <td>NaN</td>\n",
       "      <td>NaN</td>\n",
       "      <td>NaN</td>\n",
       "      <td>NaN</td>\n",
       "      <td>NaN</td>\n",
       "    </tr>\n",
       "    <tr>\n",
       "      <th>1099</th>\n",
       "      <td>For more information see Technical notes.</td>\n",
       "      <td>NaN</td>\n",
       "      <td>NaN</td>\n",
       "      <td>NaN</td>\n",
       "      <td>NaN</td>\n",
       "      <td>NaN</td>\n",
       "      <td>NaN</td>\n",
       "      <td>NaN</td>\n",
       "      <td>NaN</td>\n",
       "    </tr>\n",
       "    <tr>\n",
       "      <th>1100</th>\n",
       "      <td>Tied institutions are ranked alike and listed ...</td>\n",
       "      <td>NaN</td>\n",
       "      <td>NaN</td>\n",
       "      <td>NaN</td>\n",
       "      <td>NaN</td>\n",
       "      <td>NaN</td>\n",
       "      <td>NaN</td>\n",
       "      <td>NaN</td>\n",
       "      <td>NaN</td>\n",
       "    </tr>\n",
       "    <tr>\n",
       "      <th>1101</th>\n",
       "      <td>Unallocated in an institution name indicates f...</td>\n",
       "      <td>NaN</td>\n",
       "      <td>NaN</td>\n",
       "      <td>NaN</td>\n",
       "      <td>NaN</td>\n",
       "      <td>NaN</td>\n",
       "      <td>NaN</td>\n",
       "      <td>NaN</td>\n",
       "      <td>NaN</td>\n",
       "    </tr>\n",
       "    <tr>\n",
       "      <th>1102</th>\n",
       "      <td>institution.</td>\n",
       "      <td>NaN</td>\n",
       "      <td>NaN</td>\n",
       "      <td>NaN</td>\n",
       "      <td>NaN</td>\n",
       "      <td>NaN</td>\n",
       "      <td>NaN</td>\n",
       "      <td>NaN</td>\n",
       "      <td>NaN</td>\n",
       "    </tr>\n",
       "  </tbody>\n",
       "</table>\n",
       "<p>1103 rows × 9 columns</p>\n",
       "</div>"
      ],
      "text/plain": [
       "                                            Institution  Rank_earned_doct  \\\n",
       "0                                         A.T. Still U.               0.0   \n",
       "1                                  Abilene Christian U.               0.0   \n",
       "2                                            Adelphi U.             279.0   \n",
       "3                                        Agnes Scott C.               0.0   \n",
       "4                     Air Force Institute of Technology             262.0   \n",
       "...                                                 ...               ...   \n",
       "1098  The population of reporting institutions and l...               NaN   \n",
       "1099          For more information see Technical notes.               NaN   \n",
       "1100  Tied institutions are ranked alike and listed ...               NaN   \n",
       "1101  Unallocated in an institution name indicates f...               NaN   \n",
       "1102                                       institution.               NaN   \n",
       "\n",
       "      Percentile_earned_doct  Rank_full_time_grad  Percentile_full_time_grad  \\\n",
       "0                        0.0                305.0                       44.6   \n",
       "1                        0.0                396.0                       57.7   \n",
       "2                       62.6                255.0                       37.4   \n",
       "3                        0.0                  0.0                        0.0   \n",
       "4                       58.8                218.0                       32.1   \n",
       "...                      ...                  ...                        ...   \n",
       "1098                     NaN                  NaN                        NaN   \n",
       "1099                     NaN                  NaN                        NaN   \n",
       "1100                     NaN                  NaN                        NaN   \n",
       "1101                     NaN                  NaN                        NaN   \n",
       "1102                     NaN                  NaN                        NaN   \n",
       "\n",
       "      Rank_tot_rd  Percentile_tot_rd  Rank_research_space  \\\n",
       "0           779.0               85.8                  0.0   \n",
       "1           425.0               47.2                545.0   \n",
       "2           531.0               58.8                  0.0   \n",
       "3           823.0               90.6                  0.0   \n",
       "4           214.0               24.2                  0.0   \n",
       "...           ...                ...                  ...   \n",
       "1098          NaN                NaN                  NaN   \n",
       "1099          NaN                NaN                  NaN   \n",
       "1100          NaN                NaN                  NaN   \n",
       "1101          NaN                NaN                  NaN   \n",
       "1102          NaN                NaN                  NaN   \n",
       "\n",
       "      Percentile_research_space  \n",
       "0                           0.0  \n",
       "1                          93.5  \n",
       "2                           0.0  \n",
       "3                           0.0  \n",
       "4                           0.0  \n",
       "...                         ...  \n",
       "1098                        NaN  \n",
       "1099                        NaN  \n",
       "1100                        NaN  \n",
       "1101                        NaN  \n",
       "1102                        NaN  \n",
       "\n",
       "[1103 rows x 9 columns]"
      ]
     },
     "execution_count": 20,
     "metadata": {},
     "output_type": "execute_result"
    }
   ],
   "source": [
    "rankings_df"
   ]
  },
  {
   "cell_type": "code",
   "execution_count": 21,
   "id": "d4f42874",
   "metadata": {},
   "outputs": [
    {
     "ename": "AttributeError",
     "evalue": "'float' object has no attribute 'replace'",
     "output_type": "error",
     "traceback": [
      "\u001b[1;31m---------------------------------------------------------------------------\u001b[0m",
      "\u001b[1;31mAttributeError\u001b[0m                            Traceback (most recent call last)",
      "Cell \u001b[1;32mIn [21], line 1\u001b[0m\n\u001b[1;32m----> 1\u001b[0m rankings_df\u001b[38;5;241m.\u001b[39mInstitution \u001b[38;5;241m=\u001b[39m [v\u001b[38;5;241m.\u001b[39mreplace(\u001b[38;5;124m'\u001b[39m\u001b[38;5;124mC.\u001b[39m\u001b[38;5;124m'\u001b[39m, \u001b[38;5;124m'\u001b[39m\u001b[38;5;124mCollege\u001b[39m\u001b[38;5;124m'\u001b[39m)\u001b[38;5;241m.\u001b[39mreplace(\u001b[38;5;124m'\u001b[39m\u001b[38;5;124mU.\u001b[39m\u001b[38;5;124m'\u001b[39m, \u001b[38;5;124m'\u001b[39m\u001b[38;5;124mUniversity\u001b[39m\u001b[38;5;124m'\u001b[39m) \u001b[38;5;28;01mfor\u001b[39;00m v \u001b[38;5;129;01min\u001b[39;00m rankings_df\u001b[38;5;241m.\u001b[39mInstitution]\n",
      "Cell \u001b[1;32mIn [21], line 1\u001b[0m, in \u001b[0;36m<listcomp>\u001b[1;34m(.0)\u001b[0m\n\u001b[1;32m----> 1\u001b[0m rankings_df\u001b[38;5;241m.\u001b[39mInstitution \u001b[38;5;241m=\u001b[39m [\u001b[43mv\u001b[49m\u001b[38;5;241;43m.\u001b[39;49m\u001b[43mreplace\u001b[49m(\u001b[38;5;124m'\u001b[39m\u001b[38;5;124mC.\u001b[39m\u001b[38;5;124m'\u001b[39m, \u001b[38;5;124m'\u001b[39m\u001b[38;5;124mCollege\u001b[39m\u001b[38;5;124m'\u001b[39m)\u001b[38;5;241m.\u001b[39mreplace(\u001b[38;5;124m'\u001b[39m\u001b[38;5;124mU.\u001b[39m\u001b[38;5;124m'\u001b[39m, \u001b[38;5;124m'\u001b[39m\u001b[38;5;124mUniversity\u001b[39m\u001b[38;5;124m'\u001b[39m) \u001b[38;5;28;01mfor\u001b[39;00m v \u001b[38;5;129;01min\u001b[39;00m rankings_df\u001b[38;5;241m.\u001b[39mInstitution]\n",
      "\u001b[1;31mAttributeError\u001b[0m: 'float' object has no attribute 'replace'"
     ]
    }
   ],
   "source": [
    "rankings_df.Institution = [v.replace('C.', 'College').replace('U.', 'University') for v in rankings_df.Institution]"
   ]
  },
  {
   "cell_type": "code",
   "execution_count": 26,
   "id": "ef9b00c1",
   "metadata": {},
   "outputs": [
    {
     "data": {
      "text/plain": [
       "False"
      ]
     },
     "execution_count": 26,
     "metadata": {},
     "output_type": "execute_result"
    }
   ],
   "source": [
    "'Adelphia U.' in rankings_df.Institution"
   ]
  },
  {
   "cell_type": "code",
   "execution_count": 31,
   "id": "b30c767a",
   "metadata": {},
   "outputs": [
    {
     "data": {
      "text/plain": [
       "True"
      ]
     },
     "execution_count": 31,
     "metadata": {},
     "output_type": "execute_result"
    }
   ],
   "source": [
    "any(rankings_df.Institution.str.contains('Adelphia U.'))"
   ]
  },
  {
   "cell_type": "code",
   "execution_count": 32,
   "id": "cec42408",
   "metadata": {},
   "outputs": [
    {
     "data": {
      "text/plain": [
       "['mydog']"
      ]
     },
     "execution_count": 32,
     "metadata": {},
     "output_type": "execute_result"
    }
   ],
   "source": [
    "'my' + 'dog'"
   ]
  },
  {
   "cell_type": "code",
   "execution_count": 38,
   "id": "d3928efb",
   "metadata": {},
   "outputs": [],
   "source": [
    "mymatrix = [[1, 2, 3],[4, 5, 6]]\n"
   ]
  },
  {
   "cell_type": "code",
   "execution_count": 40,
   "id": "7a507594",
   "metadata": {},
   "outputs": [
    {
     "name": "stdout",
     "output_type": "stream",
     "text": [
      "1\n",
      "2\n",
      "3\n",
      "4\n",
      "5\n",
      "6\n"
     ]
    }
   ],
   "source": [
    "for dim_1 in mymatrix:\n",
    "    for i in dim_1:\n",
    "        print(i)"
   ]
  },
  {
   "cell_type": "code",
   "execution_count": 42,
   "id": "8204d8a8",
   "metadata": {},
   "outputs": [
    {
     "data": {
      "text/plain": [
       "0       False\n",
       "1       False\n",
       "2        True\n",
       "3       False\n",
       "4       False\n",
       "        ...  \n",
       "1098    False\n",
       "1099    False\n",
       "1100    False\n",
       "1101    False\n",
       "1102    False\n",
       "Name: Institution, Length: 1103, dtype: bool"
      ]
     },
     "execution_count": 42,
     "metadata": {},
     "output_type": "execute_result"
    }
   ],
   "source": [
    "rankings_df.Institution == 'Adelphi U.'"
   ]
  },
  {
   "cell_type": "code",
   "execution_count": 43,
   "id": "b6c9180b",
   "metadata": {},
   "outputs": [
    {
     "ename": "TypeError",
     "evalue": "list indices must be integers or slices, not tuple",
     "output_type": "error",
     "traceback": [
      "\u001b[1;31m---------------------------------------------------------------------------\u001b[0m",
      "\u001b[1;31mTypeError\u001b[0m                                 Traceback (most recent call last)",
      "Cell \u001b[1;32mIn [43], line 2\u001b[0m\n\u001b[0;32m      1\u001b[0m dog \u001b[38;5;241m=\u001b[39m [\u001b[38;5;241m1\u001b[39m, \u001b[38;5;241m2\u001b[39m, \u001b[38;5;241m3\u001b[39m, \u001b[38;5;241m4\u001b[39m]\n\u001b[1;32m----> 2\u001b[0m \u001b[38;5;28;01mdel\u001b[39;00m dog[\u001b[38;5;241m1\u001b[39m, \u001b[38;5;241m2\u001b[39m]\n",
      "\u001b[1;31mTypeError\u001b[0m: list indices must be integers or slices, not tuple"
     ]
    }
   ],
   "source": [
    "dog = [1, 2, 3, 4]\n",
    "del dog[1, 2]"
   ]
  },
  {
   "cell_type": "code",
   "execution_count": 49,
   "id": "06946a9a",
   "metadata": {},
   "outputs": [
    {
     "data": {
      "text/html": [
       "<div>\n",
       "<style scoped>\n",
       "    .dataframe tbody tr th:only-of-type {\n",
       "        vertical-align: middle;\n",
       "    }\n",
       "\n",
       "    .dataframe tbody tr th {\n",
       "        vertical-align: top;\n",
       "    }\n",
       "\n",
       "    .dataframe thead th {\n",
       "        text-align: right;\n",
       "    }\n",
       "</style>\n",
       "<table border=\"1\" class=\"dataframe\">\n",
       "  <thead>\n",
       "    <tr style=\"text-align: right;\">\n",
       "      <th></th>\n",
       "      <th>Institution</th>\n",
       "      <th>Rank_earned_doct</th>\n",
       "      <th>Percentile_earned_doct</th>\n",
       "      <th>Rank_full_time_grad</th>\n",
       "      <th>Percentile_full_time_grad</th>\n",
       "      <th>Rank_tot_rd</th>\n",
       "      <th>Percentile_tot_rd</th>\n",
       "      <th>Rank_research_space</th>\n",
       "      <th>Percentile_research_space</th>\n",
       "    </tr>\n",
       "  </thead>\n",
       "  <tbody>\n",
       "    <tr>\n",
       "      <th>100</th>\n",
       "      <td>CUNY, Graduate School of Public Health and Hea...</td>\n",
       "      <td>0.0</td>\n",
       "      <td>0.0</td>\n",
       "      <td>0.0</td>\n",
       "      <td>0.0</td>\n",
       "      <td>312.0</td>\n",
       "      <td>34.9</td>\n",
       "      <td>0.0</td>\n",
       "      <td>0.0</td>\n",
       "    </tr>\n",
       "    <tr>\n",
       "      <th>2</th>\n",
       "      <td>Adelphi U.</td>\n",
       "      <td>279.0</td>\n",
       "      <td>62.6</td>\n",
       "      <td>255.0</td>\n",
       "      <td>37.4</td>\n",
       "      <td>531.0</td>\n",
       "      <td>58.8</td>\n",
       "      <td>0.0</td>\n",
       "      <td>0.0</td>\n",
       "    </tr>\n",
       "    <tr>\n",
       "      <th>3</th>\n",
       "      <td>Agnes Scott C.</td>\n",
       "      <td>0.0</td>\n",
       "      <td>0.0</td>\n",
       "      <td>0.0</td>\n",
       "      <td>0.0</td>\n",
       "      <td>823.0</td>\n",
       "      <td>90.6</td>\n",
       "      <td>0.0</td>\n",
       "      <td>0.0</td>\n",
       "    </tr>\n",
       "    <tr>\n",
       "      <th>500</th>\n",
       "      <td>Norfolk State U.</td>\n",
       "      <td>372.0</td>\n",
       "      <td>83.2</td>\n",
       "      <td>457.0</td>\n",
       "      <td>66.4</td>\n",
       "      <td>435.0</td>\n",
       "      <td>48.3</td>\n",
       "      <td>384.0</td>\n",
       "      <td>66.2</td>\n",
       "    </tr>\n",
       "  </tbody>\n",
       "</table>\n",
       "</div>"
      ],
      "text/plain": [
       "                                           Institution  Rank_earned_doct  \\\n",
       "100  CUNY, Graduate School of Public Health and Hea...               0.0   \n",
       "2                                           Adelphi U.             279.0   \n",
       "3                                       Agnes Scott C.               0.0   \n",
       "500                                   Norfolk State U.             372.0   \n",
       "\n",
       "     Percentile_earned_doct  Rank_full_time_grad  Percentile_full_time_grad  \\\n",
       "100                     0.0                  0.0                        0.0   \n",
       "2                      62.6                255.0                       37.4   \n",
       "3                       0.0                  0.0                        0.0   \n",
       "500                    83.2                457.0                       66.4   \n",
       "\n",
       "     Rank_tot_rd  Percentile_tot_rd  Rank_research_space  \\\n",
       "100        312.0               34.9                  0.0   \n",
       "2          531.0               58.8                  0.0   \n",
       "3          823.0               90.6                  0.0   \n",
       "500        435.0               48.3                384.0   \n",
       "\n",
       "     Percentile_research_space  \n",
       "100                        0.0  \n",
       "2                          0.0  \n",
       "3                          0.0  \n",
       "500                       66.2  "
      ]
     },
     "execution_count": 49,
     "metadata": {},
     "output_type": "execute_result"
    }
   ],
   "source": [
    "rankings_df.iloc[[100, 2, 3, 500]]"
   ]
  },
  {
   "cell_type": "code",
   "execution_count": 50,
   "id": "bf4a03f6",
   "metadata": {},
   "outputs": [],
   "source": [
    "mylist = [1]"
   ]
  },
  {
   "cell_type": "code",
   "execution_count": 51,
   "id": "c07ad92b",
   "metadata": {},
   "outputs": [],
   "source": [
    "mylist.append(3)"
   ]
  },
  {
   "cell_type": "code",
   "execution_count": 52,
   "id": "c82fdef7",
   "metadata": {},
   "outputs": [
    {
     "data": {
      "text/plain": [
       "[1, 3]"
      ]
     },
     "execution_count": 52,
     "metadata": {},
     "output_type": "execute_result"
    }
   ],
   "source": [
    "mylist"
   ]
  },
  {
   "cell_type": "code",
   "execution_count": null,
   "id": "b9a51696",
   "metadata": {},
   "outputs": [],
   "source": []
  }
 ],
 "metadata": {
  "kernelspec": {
   "display_name": "Python 3",
   "language": "python",
   "name": "python3"
  },
  "language_info": {
   "codemirror_mode": {
    "name": "ipython",
    "version": 3
   },
   "file_extension": ".py",
   "mimetype": "text/x-python",
   "name": "python",
   "nbconvert_exporter": "python",
   "pygments_lexer": "ipython3",
   "version": "3.8.15"
  }
 },
 "nbformat": 4,
 "nbformat_minor": 5
}
